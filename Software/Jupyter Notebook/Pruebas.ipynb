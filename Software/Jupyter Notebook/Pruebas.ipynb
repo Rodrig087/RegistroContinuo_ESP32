{
 "cells": [
  {
   "cell_type": "code",
   "execution_count": 25,
   "id": "aa542d27",
   "metadata": {},
   "outputs": [
    {
     "name": "stdout",
     "output_type": "stream",
     "text": [
      "221110\n",
      "22/11/10 23:58:02\n"
     ]
    }
   ],
   "source": [
    "#Prueba de conversion de tiempo ESP32 - dsPIC\n",
    "tiempoESP = [0 for i in range(6)]\n",
    "\n",
    "tiempoESP[0] = 22\n",
    "tiempoESP[1] = 11\n",
    "tiempoESP[2] = 10\n",
    "tiempoESP[3] = 23\n",
    "tiempoESP[4] = 58\n",
    "tiempoESP[5] = 2\n",
    "\n",
    "# horaESP fechaESP\n",
    "fechaESP = (tiempoESP[0]*10000)+(tiempoESP[1]*100)+(tiempoESP[2])\n",
    "horaESP = (tiempoESP[3]*3600)+(tiempoESP[4]*60)+(tiempoESP[5])\n",
    "\n",
    "print(fechaESP)\n",
    "\n",
    "anio = int(fechaESP / 10000)\n",
    "mes = int((fechaESP%10000) / 100)\n",
    "dia = int((fechaESP%10000) % 100)\n",
    "\n",
    "hora = horaESP / 3600\n",
    "minuto = (horaESP%3600) / 60\n",
    "segundo = (horaESP%3600) % 60\n",
    "\n",
    "print('%0.2d/%0.2d/%0.2d %0.2d:%0.2d:%0.2d' %(anio,mes,dia,hora,minuto,segundo))\n"
   ]
  },
  {
   "cell_type": "code",
   "execution_count": null,
   "id": "f6171300",
   "metadata": {},
   "outputs": [],
   "source": []
  }
 ],
 "metadata": {
  "kernelspec": {
   "display_name": "Python 3",
   "language": "python",
   "name": "python3"
  },
  "language_info": {
   "codemirror_mode": {
    "name": "ipython",
    "version": 3
   },
   "file_extension": ".py",
   "mimetype": "text/x-python",
   "name": "python",
   "nbconvert_exporter": "python",
   "pygments_lexer": "ipython3",
   "version": "3.8.8"
  }
 },
 "nbformat": 4,
 "nbformat_minor": 5
}
